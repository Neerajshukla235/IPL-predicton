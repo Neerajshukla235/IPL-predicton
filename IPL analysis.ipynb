{
 "cells": [
  {
   "cell_type": "code",
   "execution_count": 1,
   "id": "9ae76229",
   "metadata": {},
   "outputs": [],
   "source": [
    "import pandas as pd\n",
    "import numpy as np"
   ]
  },
  {
   "cell_type": "code",
   "execution_count": 3,
   "id": "c3fb66bd",
   "metadata": {},
   "outputs": [],
   "source": [
    "deliveries= pd.read_csv('deliveries.csv')\n",
    "match_details= pd.read_csv('match_details.csv')"
   ]
  },
  {
   "cell_type": "code",
   "execution_count": 5,
   "id": "c42acc3c",
   "metadata": {},
   "outputs": [
    {
     "name": "stdout",
     "output_type": "stream",
     "text": [
      "<class 'pandas.core.frame.DataFrame'>\n",
      "RangeIndex: 225954 entries, 0 to 225953\n",
      "Data columns (total 23 columns):\n",
      " #   Column                  Non-Null Count   Dtype  \n",
      "---  ------                  --------------   -----  \n",
      " 0   match_id                225954 non-null  int64  \n",
      " 1   season                  225954 non-null  object \n",
      " 2   innings                 225954 non-null  int64  \n",
      " 3   ball                    225954 non-null  float64\n",
      " 4   batting_team            225954 non-null  object \n",
      " 5   bowling_team            225954 non-null  object \n",
      " 6   striker                 225954 non-null  object \n",
      " 7   non_striker             225954 non-null  object \n",
      " 8   bowler                  225954 non-null  object \n",
      " 9   runs_off_bat            225954 non-null  int64  \n",
      " 10  extras                  225954 non-null  int64  \n",
      " 11  wides                   7026 non-null    float64\n",
      " 12  noballs                 918 non-null     float64\n",
      " 13  byes                    583 non-null     float64\n",
      " 14  legbyes                 3531 non-null    float64\n",
      " 15  penalty                 2 non-null       float64\n",
      " 16  wicket_type             11151 non-null   object \n",
      " 17  player_dismissed        11151 non-null   object \n",
      " 18  other_wicket_type       0 non-null       float64\n",
      " 19  other_player_dismissed  0 non-null       float64\n",
      " 20  striker_id              225954 non-null  object \n",
      " 21  non_striker_id          225954 non-null  object \n",
      " 22  bowler_id               225954 non-null  object \n",
      "dtypes: float64(8), int64(4), object(11)\n",
      "memory usage: 39.6+ MB\n"
     ]
    }
   ],
   "source": [
    "deliveries.info()"
   ]
  },
  {
   "cell_type": "code",
   "execution_count": 14,
   "id": "eb10b3e5",
   "metadata": {},
   "outputs": [
    {
     "data": {
      "text/plain": [
       "Royal Challengers Bangalore    126\n",
       "Mumbai Indians                 112\n",
       "Chennai Super Kings            111\n",
       "Kolkata Knight Riders          105\n",
       "Kings XI Punjab                 92\n",
       "Rajasthan Royals                89\n",
       "Delhi Daredevils                85\n",
       "Sunrisers Hyderabad             69\n",
       "Deccan Chargers                 39\n",
       "Delhi Capitals                  29\n",
       "Pune Warriors                   23\n",
       "Punjab Kings                    18\n",
       "Gujarat Lions                   16\n",
       "Lucknow Super Giants             8\n",
       "Rising Pune Supergiants          7\n",
       "Kochi Tuskers Kerala             7\n",
       "Gujarat Titans                   7\n",
       "Rising Pune Supergiant           7\n",
       "Name: team1, dtype: int64"
      ]
     },
     "execution_count": 14,
     "metadata": {},
     "output_type": "execute_result"
    }
   ],
   "source": [
    "match_details['team1'].value_counts()"
   ]
  },
  {
   "cell_type": "code",
   "execution_count": null,
   "id": "9dbe9bea",
   "metadata": {},
   "outputs": [],
   "source": []
  }
 ],
 "metadata": {
  "kernelspec": {
   "display_name": "Python 3 (ipykernel)",
   "language": "python",
   "name": "python3"
  },
  "language_info": {
   "codemirror_mode": {
    "name": "ipython",
    "version": 3
   },
   "file_extension": ".py",
   "mimetype": "text/x-python",
   "name": "python",
   "nbconvert_exporter": "python",
   "pygments_lexer": "ipython3",
   "version": "3.9.12"
  }
 },
 "nbformat": 4,
 "nbformat_minor": 5
}
